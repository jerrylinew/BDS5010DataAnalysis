{
  "metadata": {
    "kernelspec": {
      "name": "python",
      "display_name": "Python (Pyodide)",
      "language": "python"
    },
    "language_info": {
      "codemirror_mode": {
        "name": "python",
        "version": 3
      },
      "file_extension": ".py",
      "mimetype": "text/x-python",
      "name": "python",
      "nbconvert_exporter": "python",
      "pygments_lexer": "ipython3",
      "version": "3.8"
    }
  },
  "nbformat_minor": 4,
  "nbformat": 4,
  "cells": [
    {
      "cell_type": "code",
      "source": "import pandas as pd",
      "metadata": {
        "trusted": true
      },
      "outputs": [],
      "execution_count": 2
    },
    {
      "cell_type": "markdown",
      "source": "# Reading in our raw data",
      "metadata": {}
    },
    {
      "cell_type": "code",
      "source": "pd.set_option('display.max_columns', None)\nlabels = pd.read_csv(\"data/labels.csv\")\nvalues = pd.read_csv(\"data/values.csv\")",
      "metadata": {
        "trusted": true
      },
      "outputs": [],
      "execution_count": 3
    },
    {
      "cell_type": "markdown",
      "source": "First two rows are labels, let's drop them:",
      "metadata": {}
    },
    {
      "cell_type": "code",
      "source": "labels = labels.drop([0, 1])\nvalues = values.drop([0, 1])",
      "metadata": {
        "trusted": true
      },
      "outputs": [],
      "execution_count": 4
    },
    {
      "cell_type": "code",
      "source": "labels.head(5)",
      "metadata": {
        "trusted": true
      },
      "outputs": [
        {
          "execution_count": 5,
          "output_type": "execute_result",
          "data": {
            "text/plain": "             StartDate              EndDate          Status       IPAddress  \\\n2  2024-11-26 15:46:23  2024-11-26 15:47:39  Survey Preview             NaN   \n3  2024-11-26 16:12:28  2024-11-26 16:15:32      IP Address   209.114.18.62   \n4  2024-11-26 16:12:24  2024-11-26 16:16:16      IP Address    137.155.98.7   \n5  2024-11-26 16:13:51  2024-11-26 16:17:34      IP Address  209.114.28.249   \n6  2024-11-26 16:13:44  2024-11-26 16:18:17      IP Address  137.155.112.29   \n\n  Progress Duration (in seconds) Finished         RecordedDate  \\\n2      100                    75     True  2024-11-26 15:47:39   \n3      100                   184     True  2024-11-26 16:15:33   \n4      100                   231     True  2024-11-26 16:16:16   \n5      100                   222     True  2024-11-26 16:17:34   \n6      100                   272     True  2024-11-26 16:18:18   \n\n          ResponseId RecipientLastName RecipientFirstName RecipientEmail  \\\n2  R_37x0MpEFNPek8aR               NaN                NaN            NaN   \n3  R_1i5wSXVb3Yb6Ro1               NaN                NaN            NaN   \n4  R_5hiGkCV7QU3BWcO               NaN                NaN            NaN   \n5  R_7EPVdMHem5XLL7b               NaN                NaN            NaN   \n6  R_3LPEhgUnaY70eTn               NaN                NaN            NaN   \n\n  ExternalReference LocationLatitude LocationLongitude DistributionChannel  \\\n2               NaN           39.952          -75.1814             preview   \n3               NaN           37.751           -97.822           anonymous   \n4               NaN           37.751           -97.822           anonymous   \n5               NaN           37.751           -97.822           anonymous   \n6               NaN           37.751           -97.822           anonymous   \n\n  UserLanguage    Q_RecaptchaScore Q41_First Click Q41_Last Click  \\\n2           EN                   1               0              0   \n3           EN  0.4000000059604645            4.57          7.513   \n4           EN  0.6000000238418579               0              0   \n5           EN                   1               0              0   \n6           EN  0.6000000238418579               0              0   \n\n  Q41_Page Submit Q41_Click Count         AC1 AC1_DO_1 AC1_DO_2 AC1_DO_3  \\\n2           15.95               0         NaN        1        7        2   \n3           8.802               4      Tennis        5        6        3   \n4          12.895               0      Tennis        7        5        2   \n5            9.73               0      Tennis        2        4        1   \n6           15.82               0  Basketball        4        3        2   \n\n  AC1_DO_4 AC1_DO_5 AC1_DO_6 AC1_DO_7 Q55_First Click Q55_Last Click  \\\n2        4        3        6        5             NaN            NaN   \n3        7        1        2        4             NaN            NaN   \n4        6        4        3        1               0              0   \n5        7        6        5        3               0              0   \n6        1        6        5        7               0              0   \n\n  Q55_Page Submit Q55_Click Count Q56_First Click Q56_Last Click  \\\n2             NaN             NaN             NaN            NaN   \n3             NaN             NaN             NaN            NaN   \n4            10.6               0               0              0   \n5           9.249               0               0              0   \n6           5.834               0               0              0   \n\n  Q56_Page Submit Q56_Click Count Q57_First Click Q57_Last Click  \\\n2             NaN             NaN             NaN            NaN   \n3             NaN             NaN             NaN            NaN   \n4           5.792               0               0              0   \n5           5.587               0               0              0   \n6          89.096               0               0              0   \n\n  Q57_Page Submit Q57_Click Count            LMC2        LMC3 LMC3_DO_1  \\\n2             NaN             NaN             NaN         NaN       NaN   \n3             NaN             NaN             NaN         NaN       NaN   \n4           5.746               0           Agree    The team         2   \n5            5.73               0  Slightly agree    The team         1   \n6           5.407               0  Slightly agree  Management         1   \n\n  LMC3_DO_2 Q58_First Click Q58_Last Click Q58_Page Submit Q58_Click Count  \\\n2       NaN               0              0           5.088               0   \n3       NaN               0              0          12.195               0   \n4         1             NaN            NaN             NaN             NaN   \n5         2             NaN            NaN             NaN             NaN   \n6         2             NaN            NaN             NaN             NaN   \n\n  Q59_First Click Q59_Last Click Q59_Page Submit Q59_Click Count  \\\n2               0              0            4.99               0   \n3               0              0           5.539               0   \n4             NaN            NaN             NaN             NaN   \n5             NaN            NaN             NaN             NaN   \n6             NaN            NaN             NaN             NaN   \n\n  Q60_First Click Q60_Last Click Q60_Page Submit Q60_Click Count  \\\n2               0              0           6.389               0   \n3               0              0           6.301               0   \n4             NaN            NaN             NaN             NaN   \n5             NaN            NaN             NaN             NaN   \n6             NaN            NaN             NaN             NaN   \n\n                         HMC1        HMC3 HMC3_DO_1 HMC3_DO_2  \\\n2                         NaN         NaN         1         2   \n3  Neutral / No strong belief  Management         1         2   \n4                         NaN         NaN       NaN       NaN   \n5                         NaN         NaN       NaN       NaN   \n6                         NaN         NaN       NaN       NaN   \n\n                SA            MA       CA               PA       DA  \\\n2              NaN           NaN      NaN              NaN      NaN   \n3       Interested  Uninterested  Neutral       Interested  Neutral   \n4  Very interested    Interested  Neutral  Very interested  Neutral   \n5       Interested    Interested  Neutral          Neutral  Neutral   \n6          Neutral    Interested  Neutral       Interested  Neutral   \n\n           SI          MI               CI          PI               DI  \\\n2         NaN         NaN              NaN         NaN              NaN   \n3  Interested  Interested          Neutral     Neutral       Interested   \n4  Interested  Interested       Interested  Interested  Very interested   \n5  Interested  Interested  Very interested  Interested       Interested   \n6     Neutral  Interested          Neutral  Interested          Neutral   \n\n            AC2                                                CC1 CC1_DO_1  \\\n2           NaN                                                NaN        2   \n3  Carrot juice                If the course was successful or not        4   \n4  Carrot juice  How interested I was in learning more about ed...        4   \n5  Carrot juice                If I wanted to work for the company        2   \n6  Carrot juice                If the course was successful or not        4   \n\n  CC1_DO_2 CC1_DO_3 CC1_DO_4              Age Gender Gender_4_TEXT  \\\n2        4        1        3              NaN    NaN           NaN   \n3        2        3        1  25-34 years old   Male           NaN   \n4        2        3        1  25-34 years old   Male           NaN   \n5        4        1        3  25-34 years old   Male           NaN   \n6        2        3        1  25-34 years old   Male           NaN   \n\n          Employment          Education              Q2   Q3 FL_3_DO_LowPDB  \\\n2                NaN                NaN             NaN  NaN            NaN   \n3  Working full-time  Bachelor’s degree  A31K0ZKXG0J05I  yes            NaN   \n4  Working full-time  Bachelor’s degree  A232HEY81AMQQ8  yes              1   \n5  Working part-time  Bachelor’s degree   A57CKWIDGUQ27  yes              1   \n6  Working full-time  Bachelor’s degree          237683  yes              1   \n\n  FL_3_DO_HighPDB Ads_DO_CA Ads_DO_CI Ads_DO_MI Ads_DO_MA Ads_DO_SI Ads_DO_SA  \\\n2               1         1         5         9         7         2         6   \n3               1         1        11         8         3         5         9   \n4             NaN        10         2         5         1        11         4   \n5             NaN         3        11         8         9         4         5   \n6             NaN         4         2         9        11         8         5   \n\n  Ads_DO_AC2 Ads_DO_DI Ads_DO_DA Ads_DO_PA Ads_DO_PI  \n2          8        10        11         4         3  \n3          7         4        10         6         2  \n4          3         9         7         6         8  \n5          1         2         6        10         7  \n6          1         6         3        10         7  ",
            "text/html": "<div>\n<style scoped>\n    .dataframe tbody tr th:only-of-type {\n        vertical-align: middle;\n    }\n\n    .dataframe tbody tr th {\n        vertical-align: top;\n    }\n\n    .dataframe thead th {\n        text-align: right;\n    }\n</style>\n<table border=\"1\" class=\"dataframe\">\n  <thead>\n    <tr style=\"text-align: right;\">\n      <th></th>\n      <th>StartDate</th>\n      <th>EndDate</th>\n      <th>Status</th>\n      <th>IPAddress</th>\n      <th>Progress</th>\n      <th>Duration (in seconds)</th>\n      <th>Finished</th>\n      <th>RecordedDate</th>\n      <th>ResponseId</th>\n      <th>RecipientLastName</th>\n      <th>RecipientFirstName</th>\n      <th>RecipientEmail</th>\n      <th>ExternalReference</th>\n      <th>LocationLatitude</th>\n      <th>LocationLongitude</th>\n      <th>DistributionChannel</th>\n      <th>UserLanguage</th>\n      <th>Q_RecaptchaScore</th>\n      <th>Q41_First Click</th>\n      <th>Q41_Last Click</th>\n      <th>Q41_Page Submit</th>\n      <th>Q41_Click Count</th>\n      <th>AC1</th>\n      <th>AC1_DO_1</th>\n      <th>AC1_DO_2</th>\n      <th>AC1_DO_3</th>\n      <th>AC1_DO_4</th>\n      <th>AC1_DO_5</th>\n      <th>AC1_DO_6</th>\n      <th>AC1_DO_7</th>\n      <th>Q55_First Click</th>\n      <th>Q55_Last Click</th>\n      <th>Q55_Page Submit</th>\n      <th>Q55_Click Count</th>\n      <th>Q56_First Click</th>\n      <th>Q56_Last Click</th>\n      <th>Q56_Page Submit</th>\n      <th>Q56_Click Count</th>\n      <th>Q57_First Click</th>\n      <th>Q57_Last Click</th>\n      <th>Q57_Page Submit</th>\n      <th>Q57_Click Count</th>\n      <th>LMC2</th>\n      <th>LMC3</th>\n      <th>LMC3_DO_1</th>\n      <th>LMC3_DO_2</th>\n      <th>Q58_First Click</th>\n      <th>Q58_Last Click</th>\n      <th>Q58_Page Submit</th>\n      <th>Q58_Click Count</th>\n      <th>Q59_First Click</th>\n      <th>Q59_Last Click</th>\n      <th>Q59_Page Submit</th>\n      <th>Q59_Click Count</th>\n      <th>Q60_First Click</th>\n      <th>Q60_Last Click</th>\n      <th>Q60_Page Submit</th>\n      <th>Q60_Click Count</th>\n      <th>HMC1</th>\n      <th>HMC3</th>\n      <th>HMC3_DO_1</th>\n      <th>HMC3_DO_2</th>\n      <th>SA</th>\n      <th>MA</th>\n      <th>CA</th>\n      <th>PA</th>\n      <th>DA</th>\n      <th>SI</th>\n      <th>MI</th>\n      <th>CI</th>\n      <th>PI</th>\n      <th>DI</th>\n      <th>AC2</th>\n      <th>CC1</th>\n      <th>CC1_DO_1</th>\n      <th>CC1_DO_2</th>\n      <th>CC1_DO_3</th>\n      <th>CC1_DO_4</th>\n      <th>Age</th>\n      <th>Gender</th>\n      <th>Gender_4_TEXT</th>\n      <th>Employment</th>\n      <th>Education</th>\n      <th>Q2</th>\n      <th>Q3</th>\n      <th>FL_3_DO_LowPDB</th>\n      <th>FL_3_DO_HighPDB</th>\n      <th>Ads_DO_CA</th>\n      <th>Ads_DO_CI</th>\n      <th>Ads_DO_MI</th>\n      <th>Ads_DO_MA</th>\n      <th>Ads_DO_SI</th>\n      <th>Ads_DO_SA</th>\n      <th>Ads_DO_AC2</th>\n      <th>Ads_DO_DI</th>\n      <th>Ads_DO_DA</th>\n      <th>Ads_DO_PA</th>\n      <th>Ads_DO_PI</th>\n    </tr>\n  </thead>\n  <tbody>\n    <tr>\n      <th>2</th>\n      <td>2024-11-26 15:46:23</td>\n      <td>2024-11-26 15:47:39</td>\n      <td>Survey Preview</td>\n      <td>NaN</td>\n      <td>100</td>\n      <td>75</td>\n      <td>True</td>\n      <td>2024-11-26 15:47:39</td>\n      <td>R_37x0MpEFNPek8aR</td>\n      <td>NaN</td>\n      <td>NaN</td>\n      <td>NaN</td>\n      <td>NaN</td>\n      <td>39.952</td>\n      <td>-75.1814</td>\n      <td>preview</td>\n      <td>EN</td>\n      <td>1</td>\n      <td>0</td>\n      <td>0</td>\n      <td>15.95</td>\n      <td>0</td>\n      <td>NaN</td>\n      <td>1</td>\n      <td>7</td>\n      <td>2</td>\n      <td>4</td>\n      <td>3</td>\n      <td>6</td>\n      <td>5</td>\n      <td>NaN</td>\n      <td>NaN</td>\n      <td>NaN</td>\n      <td>NaN</td>\n      <td>NaN</td>\n      <td>NaN</td>\n      <td>NaN</td>\n      <td>NaN</td>\n      <td>NaN</td>\n      <td>NaN</td>\n      <td>NaN</td>\n      <td>NaN</td>\n      <td>NaN</td>\n      <td>NaN</td>\n      <td>NaN</td>\n      <td>NaN</td>\n      <td>0</td>\n      <td>0</td>\n      <td>5.088</td>\n      <td>0</td>\n      <td>0</td>\n      <td>0</td>\n      <td>4.99</td>\n      <td>0</td>\n      <td>0</td>\n      <td>0</td>\n      <td>6.389</td>\n      <td>0</td>\n      <td>NaN</td>\n      <td>NaN</td>\n      <td>1</td>\n      <td>2</td>\n      <td>NaN</td>\n      <td>NaN</td>\n      <td>NaN</td>\n      <td>NaN</td>\n      <td>NaN</td>\n      <td>NaN</td>\n      <td>NaN</td>\n      <td>NaN</td>\n      <td>NaN</td>\n      <td>NaN</td>\n      <td>NaN</td>\n      <td>NaN</td>\n      <td>2</td>\n      <td>4</td>\n      <td>1</td>\n      <td>3</td>\n      <td>NaN</td>\n      <td>NaN</td>\n      <td>NaN</td>\n      <td>NaN</td>\n      <td>NaN</td>\n      <td>NaN</td>\n      <td>NaN</td>\n      <td>NaN</td>\n      <td>1</td>\n      <td>1</td>\n      <td>5</td>\n      <td>9</td>\n      <td>7</td>\n      <td>2</td>\n      <td>6</td>\n      <td>8</td>\n      <td>10</td>\n      <td>11</td>\n      <td>4</td>\n      <td>3</td>\n    </tr>\n    <tr>\n      <th>3</th>\n      <td>2024-11-26 16:12:28</td>\n      <td>2024-11-26 16:15:32</td>\n      <td>IP Address</td>\n      <td>209.114.18.62</td>\n      <td>100</td>\n      <td>184</td>\n      <td>True</td>\n      <td>2024-11-26 16:15:33</td>\n      <td>R_1i5wSXVb3Yb6Ro1</td>\n      <td>NaN</td>\n      <td>NaN</td>\n      <td>NaN</td>\n      <td>NaN</td>\n      <td>37.751</td>\n      <td>-97.822</td>\n      <td>anonymous</td>\n      <td>EN</td>\n      <td>0.4000000059604645</td>\n      <td>4.57</td>\n      <td>7.513</td>\n      <td>8.802</td>\n      <td>4</td>\n      <td>Tennis</td>\n      <td>5</td>\n      <td>6</td>\n      <td>3</td>\n      <td>7</td>\n      <td>1</td>\n      <td>2</td>\n      <td>4</td>\n      <td>NaN</td>\n      <td>NaN</td>\n      <td>NaN</td>\n      <td>NaN</td>\n      <td>NaN</td>\n      <td>NaN</td>\n      <td>NaN</td>\n      <td>NaN</td>\n      <td>NaN</td>\n      <td>NaN</td>\n      <td>NaN</td>\n      <td>NaN</td>\n      <td>NaN</td>\n      <td>NaN</td>\n      <td>NaN</td>\n      <td>NaN</td>\n      <td>0</td>\n      <td>0</td>\n      <td>12.195</td>\n      <td>0</td>\n      <td>0</td>\n      <td>0</td>\n      <td>5.539</td>\n      <td>0</td>\n      <td>0</td>\n      <td>0</td>\n      <td>6.301</td>\n      <td>0</td>\n      <td>Neutral / No strong belief</td>\n      <td>Management</td>\n      <td>1</td>\n      <td>2</td>\n      <td>Interested</td>\n      <td>Uninterested</td>\n      <td>Neutral</td>\n      <td>Interested</td>\n      <td>Neutral</td>\n      <td>Interested</td>\n      <td>Interested</td>\n      <td>Neutral</td>\n      <td>Neutral</td>\n      <td>Interested</td>\n      <td>Carrot juice</td>\n      <td>If the course was successful or not</td>\n      <td>4</td>\n      <td>2</td>\n      <td>3</td>\n      <td>1</td>\n      <td>25-34 years old</td>\n      <td>Male</td>\n      <td>NaN</td>\n      <td>Working full-time</td>\n      <td>Bachelor’s degree</td>\n      <td>A31K0ZKXG0J05I</td>\n      <td>yes</td>\n      <td>NaN</td>\n      <td>1</td>\n      <td>1</td>\n      <td>11</td>\n      <td>8</td>\n      <td>3</td>\n      <td>5</td>\n      <td>9</td>\n      <td>7</td>\n      <td>4</td>\n      <td>10</td>\n      <td>6</td>\n      <td>2</td>\n    </tr>\n    <tr>\n      <th>4</th>\n      <td>2024-11-26 16:12:24</td>\n      <td>2024-11-26 16:16:16</td>\n      <td>IP Address</td>\n      <td>137.155.98.7</td>\n      <td>100</td>\n      <td>231</td>\n      <td>True</td>\n      <td>2024-11-26 16:16:16</td>\n      <td>R_5hiGkCV7QU3BWcO</td>\n      <td>NaN</td>\n      <td>NaN</td>\n      <td>NaN</td>\n      <td>NaN</td>\n      <td>37.751</td>\n      <td>-97.822</td>\n      <td>anonymous</td>\n      <td>EN</td>\n      <td>0.6000000238418579</td>\n      <td>0</td>\n      <td>0</td>\n      <td>12.895</td>\n      <td>0</td>\n      <td>Tennis</td>\n      <td>7</td>\n      <td>5</td>\n      <td>2</td>\n      <td>6</td>\n      <td>4</td>\n      <td>3</td>\n      <td>1</td>\n      <td>0</td>\n      <td>0</td>\n      <td>10.6</td>\n      <td>0</td>\n      <td>0</td>\n      <td>0</td>\n      <td>5.792</td>\n      <td>0</td>\n      <td>0</td>\n      <td>0</td>\n      <td>5.746</td>\n      <td>0</td>\n      <td>Agree</td>\n      <td>The team</td>\n      <td>2</td>\n      <td>1</td>\n      <td>NaN</td>\n      <td>NaN</td>\n      <td>NaN</td>\n      <td>NaN</td>\n      <td>NaN</td>\n      <td>NaN</td>\n      <td>NaN</td>\n      <td>NaN</td>\n      <td>NaN</td>\n      <td>NaN</td>\n      <td>NaN</td>\n      <td>NaN</td>\n      <td>NaN</td>\n      <td>NaN</td>\n      <td>NaN</td>\n      <td>NaN</td>\n      <td>Very interested</td>\n      <td>Interested</td>\n      <td>Neutral</td>\n      <td>Very interested</td>\n      <td>Neutral</td>\n      <td>Interested</td>\n      <td>Interested</td>\n      <td>Interested</td>\n      <td>Interested</td>\n      <td>Very interested</td>\n      <td>Carrot juice</td>\n      <td>How interested I was in learning more about ed...</td>\n      <td>4</td>\n      <td>2</td>\n      <td>3</td>\n      <td>1</td>\n      <td>25-34 years old</td>\n      <td>Male</td>\n      <td>NaN</td>\n      <td>Working full-time</td>\n      <td>Bachelor’s degree</td>\n      <td>A232HEY81AMQQ8</td>\n      <td>yes</td>\n      <td>1</td>\n      <td>NaN</td>\n      <td>10</td>\n      <td>2</td>\n      <td>5</td>\n      <td>1</td>\n      <td>11</td>\n      <td>4</td>\n      <td>3</td>\n      <td>9</td>\n      <td>7</td>\n      <td>6</td>\n      <td>8</td>\n    </tr>\n    <tr>\n      <th>5</th>\n      <td>2024-11-26 16:13:51</td>\n      <td>2024-11-26 16:17:34</td>\n      <td>IP Address</td>\n      <td>209.114.28.249</td>\n      <td>100</td>\n      <td>222</td>\n      <td>True</td>\n      <td>2024-11-26 16:17:34</td>\n      <td>R_7EPVdMHem5XLL7b</td>\n      <td>NaN</td>\n      <td>NaN</td>\n      <td>NaN</td>\n      <td>NaN</td>\n      <td>37.751</td>\n      <td>-97.822</td>\n      <td>anonymous</td>\n      <td>EN</td>\n      <td>1</td>\n      <td>0</td>\n      <td>0</td>\n      <td>9.73</td>\n      <td>0</td>\n      <td>Tennis</td>\n      <td>2</td>\n      <td>4</td>\n      <td>1</td>\n      <td>7</td>\n      <td>6</td>\n      <td>5</td>\n      <td>3</td>\n      <td>0</td>\n      <td>0</td>\n      <td>9.249</td>\n      <td>0</td>\n      <td>0</td>\n      <td>0</td>\n      <td>5.587</td>\n      <td>0</td>\n      <td>0</td>\n      <td>0</td>\n      <td>5.73</td>\n      <td>0</td>\n      <td>Slightly agree</td>\n      <td>The team</td>\n      <td>1</td>\n      <td>2</td>\n      <td>NaN</td>\n      <td>NaN</td>\n      <td>NaN</td>\n      <td>NaN</td>\n      <td>NaN</td>\n      <td>NaN</td>\n      <td>NaN</td>\n      <td>NaN</td>\n      <td>NaN</td>\n      <td>NaN</td>\n      <td>NaN</td>\n      <td>NaN</td>\n      <td>NaN</td>\n      <td>NaN</td>\n      <td>NaN</td>\n      <td>NaN</td>\n      <td>Interested</td>\n      <td>Interested</td>\n      <td>Neutral</td>\n      <td>Neutral</td>\n      <td>Neutral</td>\n      <td>Interested</td>\n      <td>Interested</td>\n      <td>Very interested</td>\n      <td>Interested</td>\n      <td>Interested</td>\n      <td>Carrot juice</td>\n      <td>If I wanted to work for the company</td>\n      <td>2</td>\n      <td>4</td>\n      <td>1</td>\n      <td>3</td>\n      <td>25-34 years old</td>\n      <td>Male</td>\n      <td>NaN</td>\n      <td>Working part-time</td>\n      <td>Bachelor’s degree</td>\n      <td>A57CKWIDGUQ27</td>\n      <td>yes</td>\n      <td>1</td>\n      <td>NaN</td>\n      <td>3</td>\n      <td>11</td>\n      <td>8</td>\n      <td>9</td>\n      <td>4</td>\n      <td>5</td>\n      <td>1</td>\n      <td>2</td>\n      <td>6</td>\n      <td>10</td>\n      <td>7</td>\n    </tr>\n    <tr>\n      <th>6</th>\n      <td>2024-11-26 16:13:44</td>\n      <td>2024-11-26 16:18:17</td>\n      <td>IP Address</td>\n      <td>137.155.112.29</td>\n      <td>100</td>\n      <td>272</td>\n      <td>True</td>\n      <td>2024-11-26 16:18:18</td>\n      <td>R_3LPEhgUnaY70eTn</td>\n      <td>NaN</td>\n      <td>NaN</td>\n      <td>NaN</td>\n      <td>NaN</td>\n      <td>37.751</td>\n      <td>-97.822</td>\n      <td>anonymous</td>\n      <td>EN</td>\n      <td>0.6000000238418579</td>\n      <td>0</td>\n      <td>0</td>\n      <td>15.82</td>\n      <td>0</td>\n      <td>Basketball</td>\n      <td>4</td>\n      <td>3</td>\n      <td>2</td>\n      <td>1</td>\n      <td>6</td>\n      <td>5</td>\n      <td>7</td>\n      <td>0</td>\n      <td>0</td>\n      <td>5.834</td>\n      <td>0</td>\n      <td>0</td>\n      <td>0</td>\n      <td>89.096</td>\n      <td>0</td>\n      <td>0</td>\n      <td>0</td>\n      <td>5.407</td>\n      <td>0</td>\n      <td>Slightly agree</td>\n      <td>Management</td>\n      <td>1</td>\n      <td>2</td>\n      <td>NaN</td>\n      <td>NaN</td>\n      <td>NaN</td>\n      <td>NaN</td>\n      <td>NaN</td>\n      <td>NaN</td>\n      <td>NaN</td>\n      <td>NaN</td>\n      <td>NaN</td>\n      <td>NaN</td>\n      <td>NaN</td>\n      <td>NaN</td>\n      <td>NaN</td>\n      <td>NaN</td>\n      <td>NaN</td>\n      <td>NaN</td>\n      <td>Neutral</td>\n      <td>Interested</td>\n      <td>Neutral</td>\n      <td>Interested</td>\n      <td>Neutral</td>\n      <td>Neutral</td>\n      <td>Interested</td>\n      <td>Neutral</td>\n      <td>Interested</td>\n      <td>Neutral</td>\n      <td>Carrot juice</td>\n      <td>If the course was successful or not</td>\n      <td>4</td>\n      <td>2</td>\n      <td>3</td>\n      <td>1</td>\n      <td>25-34 years old</td>\n      <td>Male</td>\n      <td>NaN</td>\n      <td>Working full-time</td>\n      <td>Bachelor’s degree</td>\n      <td>237683</td>\n      <td>yes</td>\n      <td>1</td>\n      <td>NaN</td>\n      <td>4</td>\n      <td>2</td>\n      <td>9</td>\n      <td>11</td>\n      <td>8</td>\n      <td>5</td>\n      <td>1</td>\n      <td>6</td>\n      <td>3</td>\n      <td>10</td>\n      <td>7</td>\n    </tr>\n  </tbody>\n</table>\n</div>"
          },
          "metadata": {}
        }
      ],
      "execution_count": 5
    },
    {
      "cell_type": "code",
      "source": "values.head(5)",
      "metadata": {
        "trusted": true
      },
      "outputs": [
        {
          "execution_count": 6,
          "output_type": "execute_result",
          "data": {
            "text/plain": "             StartDate              EndDate Status       IPAddress Progress  \\\n2  2024-11-26 15:46:23  2024-11-26 15:47:39      1             NaN      100   \n3  2024-11-26 16:12:28  2024-11-26 16:15:32      0   209.114.18.62      100   \n4  2024-11-26 16:12:24  2024-11-26 16:16:16      0    137.155.98.7      100   \n5  2024-11-26 16:13:51  2024-11-26 16:17:34      0  209.114.28.249      100   \n6  2024-11-26 16:13:44  2024-11-26 16:18:17      0  137.155.112.29      100   \n\n  Duration (in seconds) Finished         RecordedDate         ResponseId  \\\n2                    75        1  2024-11-26 15:47:39  R_37x0MpEFNPek8aR   \n3                   184        1  2024-11-26 16:15:33  R_1i5wSXVb3Yb6Ro1   \n4                   231        1  2024-11-26 16:16:16  R_5hiGkCV7QU3BWcO   \n5                   222        1  2024-11-26 16:17:34  R_7EPVdMHem5XLL7b   \n6                   272        1  2024-11-26 16:18:18  R_3LPEhgUnaY70eTn   \n\n  RecipientLastName RecipientFirstName RecipientEmail ExternalReference  \\\n2               NaN                NaN            NaN               NaN   \n3               NaN                NaN            NaN               NaN   \n4               NaN                NaN            NaN               NaN   \n5               NaN                NaN            NaN               NaN   \n6               NaN                NaN            NaN               NaN   \n\n  LocationLatitude LocationLongitude DistributionChannel UserLanguage  \\\n2           39.952          -75.1814             preview           EN   \n3           37.751           -97.822           anonymous           EN   \n4           37.751           -97.822           anonymous           EN   \n5           37.751           -97.822           anonymous           EN   \n6           37.751           -97.822           anonymous           EN   \n\n     Q_RecaptchaScore Q41_First Click Q41_Last Click Q41_Page Submit  \\\n2                   1               0              0           15.95   \n3  0.4000000059604645            4.57          7.513           8.802   \n4  0.6000000238418579               0              0          12.895   \n5                   1               0              0            9.73   \n6  0.6000000238418579               0              0           15.82   \n\n  Q41_Click Count  AC1 AC1_DO_1 AC1_DO_2 AC1_DO_3 AC1_DO_4 AC1_DO_5 AC1_DO_6  \\\n2               0  NaN        1        7        2        4        3        6   \n3               4    3        5        6        3        7        1        2   \n4               0    3        7        5        2        6        4        3   \n5               0    3        2        4        1        7        6        5   \n6               0    6        4        3        2        1        6        5   \n\n  AC1_DO_7 Q55_First Click Q55_Last Click Q55_Page Submit Q55_Click Count  \\\n2        5             NaN            NaN             NaN             NaN   \n3        4             NaN            NaN             NaN             NaN   \n4        1               0              0            10.6               0   \n5        3               0              0           9.249               0   \n6        7               0              0           5.834               0   \n\n  Q56_First Click Q56_Last Click Q56_Page Submit Q56_Click Count  \\\n2             NaN            NaN             NaN             NaN   \n3             NaN            NaN             NaN             NaN   \n4               0              0           5.792               0   \n5               0              0           5.587               0   \n6               0              0          89.096               0   \n\n  Q57_First Click Q57_Last Click Q57_Page Submit Q57_Click Count LMC2 LMC3  \\\n2             NaN            NaN             NaN             NaN  NaN  NaN   \n3             NaN            NaN             NaN             NaN  NaN  NaN   \n4               0              0           5.746               0    5    2   \n5               0              0            5.73               0    4    2   \n6               0              0           5.407               0    4    1   \n\n  LMC3_DO_1 LMC3_DO_2 Q58_First Click Q58_Last Click Q58_Page Submit  \\\n2       NaN       NaN               0              0           5.088   \n3       NaN       NaN               0              0          12.195   \n4         2         1             NaN            NaN             NaN   \n5         1         2             NaN            NaN             NaN   \n6         1         2             NaN            NaN             NaN   \n\n  Q58_Click Count Q59_First Click Q59_Last Click Q59_Page Submit  \\\n2               0               0              0            4.99   \n3               0               0              0           5.539   \n4             NaN             NaN            NaN             NaN   \n5             NaN             NaN            NaN             NaN   \n6             NaN             NaN            NaN             NaN   \n\n  Q59_Click Count Q60_First Click Q60_Last Click Q60_Page Submit  \\\n2               0               0              0           6.389   \n3               0               0              0           6.301   \n4             NaN             NaN            NaN             NaN   \n5             NaN             NaN            NaN             NaN   \n6             NaN             NaN            NaN             NaN   \n\n  Q60_Click Count HMC1 HMC3 HMC3_DO_1 HMC3_DO_2   SA   MA   CA   PA   DA   SI  \\\n2               0  NaN  NaN         1         2  NaN  NaN  NaN  NaN  NaN  NaN   \n3               0    3    1         1         2    4    2    3    4    3    4   \n4             NaN  NaN  NaN       NaN       NaN    5    4    3    5    3    4   \n5             NaN  NaN  NaN       NaN       NaN    4    4    3    3    3    4   \n6             NaN  NaN  NaN       NaN       NaN    3    4    3    4    3    3   \n\n    MI   CI   PI   DI  AC2  CC1 CC1_DO_1 CC1_DO_2 CC1_DO_3 CC1_DO_4  Age  \\\n2  NaN  NaN  NaN  NaN  NaN  NaN        2        4        1        3  NaN   \n3    4    3    3    4    5    2        4        2        3        1    3   \n4    4    4    4    5    5    1        4        2        3        1    3   \n5    4    5    4    4    5    4        2        4        1        3    3   \n6    4    3    4    3    5    2        4        2        3        1    3   \n\n  Gender Gender_4_TEXT Employment Education              Q2   Q3  \\\n2    NaN           NaN        NaN       NaN             NaN  NaN   \n3      1           NaN          1         5  A31K0ZKXG0J05I    1   \n4      1           NaN          1         5  A232HEY81AMQQ8    1   \n5      1           NaN          2         5   A57CKWIDGUQ27    1   \n6      1           NaN          1         5          237683    1   \n\n  FL_3_DO_LowPDB FL_3_DO_HighPDB Ads_DO_CA Ads_DO_CI Ads_DO_MI Ads_DO_MA  \\\n2            NaN               1         1         5         9         7   \n3            NaN               1         1        11         8         3   \n4              1             NaN        10         2         5         1   \n5              1             NaN         3        11         8         9   \n6              1             NaN         4         2         9        11   \n\n  Ads_DO_SI Ads_DO_SA Ads_DO_AC2 Ads_DO_DI Ads_DO_DA Ads_DO_PA Ads_DO_PI  \n2         2         6          8        10        11         4         3  \n3         5         9          7         4        10         6         2  \n4        11         4          3         9         7         6         8  \n5         4         5          1         2         6        10         7  \n6         8         5          1         6         3        10         7  ",
            "text/html": "<div>\n<style scoped>\n    .dataframe tbody tr th:only-of-type {\n        vertical-align: middle;\n    }\n\n    .dataframe tbody tr th {\n        vertical-align: top;\n    }\n\n    .dataframe thead th {\n        text-align: right;\n    }\n</style>\n<table border=\"1\" class=\"dataframe\">\n  <thead>\n    <tr style=\"text-align: right;\">\n      <th></th>\n      <th>StartDate</th>\n      <th>EndDate</th>\n      <th>Status</th>\n      <th>IPAddress</th>\n      <th>Progress</th>\n      <th>Duration (in seconds)</th>\n      <th>Finished</th>\n      <th>RecordedDate</th>\n      <th>ResponseId</th>\n      <th>RecipientLastName</th>\n      <th>RecipientFirstName</th>\n      <th>RecipientEmail</th>\n      <th>ExternalReference</th>\n      <th>LocationLatitude</th>\n      <th>LocationLongitude</th>\n      <th>DistributionChannel</th>\n      <th>UserLanguage</th>\n      <th>Q_RecaptchaScore</th>\n      <th>Q41_First Click</th>\n      <th>Q41_Last Click</th>\n      <th>Q41_Page Submit</th>\n      <th>Q41_Click Count</th>\n      <th>AC1</th>\n      <th>AC1_DO_1</th>\n      <th>AC1_DO_2</th>\n      <th>AC1_DO_3</th>\n      <th>AC1_DO_4</th>\n      <th>AC1_DO_5</th>\n      <th>AC1_DO_6</th>\n      <th>AC1_DO_7</th>\n      <th>Q55_First Click</th>\n      <th>Q55_Last Click</th>\n      <th>Q55_Page Submit</th>\n      <th>Q55_Click Count</th>\n      <th>Q56_First Click</th>\n      <th>Q56_Last Click</th>\n      <th>Q56_Page Submit</th>\n      <th>Q56_Click Count</th>\n      <th>Q57_First Click</th>\n      <th>Q57_Last Click</th>\n      <th>Q57_Page Submit</th>\n      <th>Q57_Click Count</th>\n      <th>LMC2</th>\n      <th>LMC3</th>\n      <th>LMC3_DO_1</th>\n      <th>LMC3_DO_2</th>\n      <th>Q58_First Click</th>\n      <th>Q58_Last Click</th>\n      <th>Q58_Page Submit</th>\n      <th>Q58_Click Count</th>\n      <th>Q59_First Click</th>\n      <th>Q59_Last Click</th>\n      <th>Q59_Page Submit</th>\n      <th>Q59_Click Count</th>\n      <th>Q60_First Click</th>\n      <th>Q60_Last Click</th>\n      <th>Q60_Page Submit</th>\n      <th>Q60_Click Count</th>\n      <th>HMC1</th>\n      <th>HMC3</th>\n      <th>HMC3_DO_1</th>\n      <th>HMC3_DO_2</th>\n      <th>SA</th>\n      <th>MA</th>\n      <th>CA</th>\n      <th>PA</th>\n      <th>DA</th>\n      <th>SI</th>\n      <th>MI</th>\n      <th>CI</th>\n      <th>PI</th>\n      <th>DI</th>\n      <th>AC2</th>\n      <th>CC1</th>\n      <th>CC1_DO_1</th>\n      <th>CC1_DO_2</th>\n      <th>CC1_DO_3</th>\n      <th>CC1_DO_4</th>\n      <th>Age</th>\n      <th>Gender</th>\n      <th>Gender_4_TEXT</th>\n      <th>Employment</th>\n      <th>Education</th>\n      <th>Q2</th>\n      <th>Q3</th>\n      <th>FL_3_DO_LowPDB</th>\n      <th>FL_3_DO_HighPDB</th>\n      <th>Ads_DO_CA</th>\n      <th>Ads_DO_CI</th>\n      <th>Ads_DO_MI</th>\n      <th>Ads_DO_MA</th>\n      <th>Ads_DO_SI</th>\n      <th>Ads_DO_SA</th>\n      <th>Ads_DO_AC2</th>\n      <th>Ads_DO_DI</th>\n      <th>Ads_DO_DA</th>\n      <th>Ads_DO_PA</th>\n      <th>Ads_DO_PI</th>\n    </tr>\n  </thead>\n  <tbody>\n    <tr>\n      <th>2</th>\n      <td>2024-11-26 15:46:23</td>\n      <td>2024-11-26 15:47:39</td>\n      <td>1</td>\n      <td>NaN</td>\n      <td>100</td>\n      <td>75</td>\n      <td>1</td>\n      <td>2024-11-26 15:47:39</td>\n      <td>R_37x0MpEFNPek8aR</td>\n      <td>NaN</td>\n      <td>NaN</td>\n      <td>NaN</td>\n      <td>NaN</td>\n      <td>39.952</td>\n      <td>-75.1814</td>\n      <td>preview</td>\n      <td>EN</td>\n      <td>1</td>\n      <td>0</td>\n      <td>0</td>\n      <td>15.95</td>\n      <td>0</td>\n      <td>NaN</td>\n      <td>1</td>\n      <td>7</td>\n      <td>2</td>\n      <td>4</td>\n      <td>3</td>\n      <td>6</td>\n      <td>5</td>\n      <td>NaN</td>\n      <td>NaN</td>\n      <td>NaN</td>\n      <td>NaN</td>\n      <td>NaN</td>\n      <td>NaN</td>\n      <td>NaN</td>\n      <td>NaN</td>\n      <td>NaN</td>\n      <td>NaN</td>\n      <td>NaN</td>\n      <td>NaN</td>\n      <td>NaN</td>\n      <td>NaN</td>\n      <td>NaN</td>\n      <td>NaN</td>\n      <td>0</td>\n      <td>0</td>\n      <td>5.088</td>\n      <td>0</td>\n      <td>0</td>\n      <td>0</td>\n      <td>4.99</td>\n      <td>0</td>\n      <td>0</td>\n      <td>0</td>\n      <td>6.389</td>\n      <td>0</td>\n      <td>NaN</td>\n      <td>NaN</td>\n      <td>1</td>\n      <td>2</td>\n      <td>NaN</td>\n      <td>NaN</td>\n      <td>NaN</td>\n      <td>NaN</td>\n      <td>NaN</td>\n      <td>NaN</td>\n      <td>NaN</td>\n      <td>NaN</td>\n      <td>NaN</td>\n      <td>NaN</td>\n      <td>NaN</td>\n      <td>NaN</td>\n      <td>2</td>\n      <td>4</td>\n      <td>1</td>\n      <td>3</td>\n      <td>NaN</td>\n      <td>NaN</td>\n      <td>NaN</td>\n      <td>NaN</td>\n      <td>NaN</td>\n      <td>NaN</td>\n      <td>NaN</td>\n      <td>NaN</td>\n      <td>1</td>\n      <td>1</td>\n      <td>5</td>\n      <td>9</td>\n      <td>7</td>\n      <td>2</td>\n      <td>6</td>\n      <td>8</td>\n      <td>10</td>\n      <td>11</td>\n      <td>4</td>\n      <td>3</td>\n    </tr>\n    <tr>\n      <th>3</th>\n      <td>2024-11-26 16:12:28</td>\n      <td>2024-11-26 16:15:32</td>\n      <td>0</td>\n      <td>209.114.18.62</td>\n      <td>100</td>\n      <td>184</td>\n      <td>1</td>\n      <td>2024-11-26 16:15:33</td>\n      <td>R_1i5wSXVb3Yb6Ro1</td>\n      <td>NaN</td>\n      <td>NaN</td>\n      <td>NaN</td>\n      <td>NaN</td>\n      <td>37.751</td>\n      <td>-97.822</td>\n      <td>anonymous</td>\n      <td>EN</td>\n      <td>0.4000000059604645</td>\n      <td>4.57</td>\n      <td>7.513</td>\n      <td>8.802</td>\n      <td>4</td>\n      <td>3</td>\n      <td>5</td>\n      <td>6</td>\n      <td>3</td>\n      <td>7</td>\n      <td>1</td>\n      <td>2</td>\n      <td>4</td>\n      <td>NaN</td>\n      <td>NaN</td>\n      <td>NaN</td>\n      <td>NaN</td>\n      <td>NaN</td>\n      <td>NaN</td>\n      <td>NaN</td>\n      <td>NaN</td>\n      <td>NaN</td>\n      <td>NaN</td>\n      <td>NaN</td>\n      <td>NaN</td>\n      <td>NaN</td>\n      <td>NaN</td>\n      <td>NaN</td>\n      <td>NaN</td>\n      <td>0</td>\n      <td>0</td>\n      <td>12.195</td>\n      <td>0</td>\n      <td>0</td>\n      <td>0</td>\n      <td>5.539</td>\n      <td>0</td>\n      <td>0</td>\n      <td>0</td>\n      <td>6.301</td>\n      <td>0</td>\n      <td>3</td>\n      <td>1</td>\n      <td>1</td>\n      <td>2</td>\n      <td>4</td>\n      <td>2</td>\n      <td>3</td>\n      <td>4</td>\n      <td>3</td>\n      <td>4</td>\n      <td>4</td>\n      <td>3</td>\n      <td>3</td>\n      <td>4</td>\n      <td>5</td>\n      <td>2</td>\n      <td>4</td>\n      <td>2</td>\n      <td>3</td>\n      <td>1</td>\n      <td>3</td>\n      <td>1</td>\n      <td>NaN</td>\n      <td>1</td>\n      <td>5</td>\n      <td>A31K0ZKXG0J05I</td>\n      <td>1</td>\n      <td>NaN</td>\n      <td>1</td>\n      <td>1</td>\n      <td>11</td>\n      <td>8</td>\n      <td>3</td>\n      <td>5</td>\n      <td>9</td>\n      <td>7</td>\n      <td>4</td>\n      <td>10</td>\n      <td>6</td>\n      <td>2</td>\n    </tr>\n    <tr>\n      <th>4</th>\n      <td>2024-11-26 16:12:24</td>\n      <td>2024-11-26 16:16:16</td>\n      <td>0</td>\n      <td>137.155.98.7</td>\n      <td>100</td>\n      <td>231</td>\n      <td>1</td>\n      <td>2024-11-26 16:16:16</td>\n      <td>R_5hiGkCV7QU3BWcO</td>\n      <td>NaN</td>\n      <td>NaN</td>\n      <td>NaN</td>\n      <td>NaN</td>\n      <td>37.751</td>\n      <td>-97.822</td>\n      <td>anonymous</td>\n      <td>EN</td>\n      <td>0.6000000238418579</td>\n      <td>0</td>\n      <td>0</td>\n      <td>12.895</td>\n      <td>0</td>\n      <td>3</td>\n      <td>7</td>\n      <td>5</td>\n      <td>2</td>\n      <td>6</td>\n      <td>4</td>\n      <td>3</td>\n      <td>1</td>\n      <td>0</td>\n      <td>0</td>\n      <td>10.6</td>\n      <td>0</td>\n      <td>0</td>\n      <td>0</td>\n      <td>5.792</td>\n      <td>0</td>\n      <td>0</td>\n      <td>0</td>\n      <td>5.746</td>\n      <td>0</td>\n      <td>5</td>\n      <td>2</td>\n      <td>2</td>\n      <td>1</td>\n      <td>NaN</td>\n      <td>NaN</td>\n      <td>NaN</td>\n      <td>NaN</td>\n      <td>NaN</td>\n      <td>NaN</td>\n      <td>NaN</td>\n      <td>NaN</td>\n      <td>NaN</td>\n      <td>NaN</td>\n      <td>NaN</td>\n      <td>NaN</td>\n      <td>NaN</td>\n      <td>NaN</td>\n      <td>NaN</td>\n      <td>NaN</td>\n      <td>5</td>\n      <td>4</td>\n      <td>3</td>\n      <td>5</td>\n      <td>3</td>\n      <td>4</td>\n      <td>4</td>\n      <td>4</td>\n      <td>4</td>\n      <td>5</td>\n      <td>5</td>\n      <td>1</td>\n      <td>4</td>\n      <td>2</td>\n      <td>3</td>\n      <td>1</td>\n      <td>3</td>\n      <td>1</td>\n      <td>NaN</td>\n      <td>1</td>\n      <td>5</td>\n      <td>A232HEY81AMQQ8</td>\n      <td>1</td>\n      <td>1</td>\n      <td>NaN</td>\n      <td>10</td>\n      <td>2</td>\n      <td>5</td>\n      <td>1</td>\n      <td>11</td>\n      <td>4</td>\n      <td>3</td>\n      <td>9</td>\n      <td>7</td>\n      <td>6</td>\n      <td>8</td>\n    </tr>\n    <tr>\n      <th>5</th>\n      <td>2024-11-26 16:13:51</td>\n      <td>2024-11-26 16:17:34</td>\n      <td>0</td>\n      <td>209.114.28.249</td>\n      <td>100</td>\n      <td>222</td>\n      <td>1</td>\n      <td>2024-11-26 16:17:34</td>\n      <td>R_7EPVdMHem5XLL7b</td>\n      <td>NaN</td>\n      <td>NaN</td>\n      <td>NaN</td>\n      <td>NaN</td>\n      <td>37.751</td>\n      <td>-97.822</td>\n      <td>anonymous</td>\n      <td>EN</td>\n      <td>1</td>\n      <td>0</td>\n      <td>0</td>\n      <td>9.73</td>\n      <td>0</td>\n      <td>3</td>\n      <td>2</td>\n      <td>4</td>\n      <td>1</td>\n      <td>7</td>\n      <td>6</td>\n      <td>5</td>\n      <td>3</td>\n      <td>0</td>\n      <td>0</td>\n      <td>9.249</td>\n      <td>0</td>\n      <td>0</td>\n      <td>0</td>\n      <td>5.587</td>\n      <td>0</td>\n      <td>0</td>\n      <td>0</td>\n      <td>5.73</td>\n      <td>0</td>\n      <td>4</td>\n      <td>2</td>\n      <td>1</td>\n      <td>2</td>\n      <td>NaN</td>\n      <td>NaN</td>\n      <td>NaN</td>\n      <td>NaN</td>\n      <td>NaN</td>\n      <td>NaN</td>\n      <td>NaN</td>\n      <td>NaN</td>\n      <td>NaN</td>\n      <td>NaN</td>\n      <td>NaN</td>\n      <td>NaN</td>\n      <td>NaN</td>\n      <td>NaN</td>\n      <td>NaN</td>\n      <td>NaN</td>\n      <td>4</td>\n      <td>4</td>\n      <td>3</td>\n      <td>3</td>\n      <td>3</td>\n      <td>4</td>\n      <td>4</td>\n      <td>5</td>\n      <td>4</td>\n      <td>4</td>\n      <td>5</td>\n      <td>4</td>\n      <td>2</td>\n      <td>4</td>\n      <td>1</td>\n      <td>3</td>\n      <td>3</td>\n      <td>1</td>\n      <td>NaN</td>\n      <td>2</td>\n      <td>5</td>\n      <td>A57CKWIDGUQ27</td>\n      <td>1</td>\n      <td>1</td>\n      <td>NaN</td>\n      <td>3</td>\n      <td>11</td>\n      <td>8</td>\n      <td>9</td>\n      <td>4</td>\n      <td>5</td>\n      <td>1</td>\n      <td>2</td>\n      <td>6</td>\n      <td>10</td>\n      <td>7</td>\n    </tr>\n    <tr>\n      <th>6</th>\n      <td>2024-11-26 16:13:44</td>\n      <td>2024-11-26 16:18:17</td>\n      <td>0</td>\n      <td>137.155.112.29</td>\n      <td>100</td>\n      <td>272</td>\n      <td>1</td>\n      <td>2024-11-26 16:18:18</td>\n      <td>R_3LPEhgUnaY70eTn</td>\n      <td>NaN</td>\n      <td>NaN</td>\n      <td>NaN</td>\n      <td>NaN</td>\n      <td>37.751</td>\n      <td>-97.822</td>\n      <td>anonymous</td>\n      <td>EN</td>\n      <td>0.6000000238418579</td>\n      <td>0</td>\n      <td>0</td>\n      <td>15.82</td>\n      <td>0</td>\n      <td>6</td>\n      <td>4</td>\n      <td>3</td>\n      <td>2</td>\n      <td>1</td>\n      <td>6</td>\n      <td>5</td>\n      <td>7</td>\n      <td>0</td>\n      <td>0</td>\n      <td>5.834</td>\n      <td>0</td>\n      <td>0</td>\n      <td>0</td>\n      <td>89.096</td>\n      <td>0</td>\n      <td>0</td>\n      <td>0</td>\n      <td>5.407</td>\n      <td>0</td>\n      <td>4</td>\n      <td>1</td>\n      <td>1</td>\n      <td>2</td>\n      <td>NaN</td>\n      <td>NaN</td>\n      <td>NaN</td>\n      <td>NaN</td>\n      <td>NaN</td>\n      <td>NaN</td>\n      <td>NaN</td>\n      <td>NaN</td>\n      <td>NaN</td>\n      <td>NaN</td>\n      <td>NaN</td>\n      <td>NaN</td>\n      <td>NaN</td>\n      <td>NaN</td>\n      <td>NaN</td>\n      <td>NaN</td>\n      <td>3</td>\n      <td>4</td>\n      <td>3</td>\n      <td>4</td>\n      <td>3</td>\n      <td>3</td>\n      <td>4</td>\n      <td>3</td>\n      <td>4</td>\n      <td>3</td>\n      <td>5</td>\n      <td>2</td>\n      <td>4</td>\n      <td>2</td>\n      <td>3</td>\n      <td>1</td>\n      <td>3</td>\n      <td>1</td>\n      <td>NaN</td>\n      <td>1</td>\n      <td>5</td>\n      <td>237683</td>\n      <td>1</td>\n      <td>1</td>\n      <td>NaN</td>\n      <td>4</td>\n      <td>2</td>\n      <td>9</td>\n      <td>11</td>\n      <td>8</td>\n      <td>5</td>\n      <td>1</td>\n      <td>6</td>\n      <td>3</td>\n      <td>10</td>\n      <td>7</td>\n    </tr>\n  </tbody>\n</table>\n</div>"
          },
          "metadata": {}
        }
      ],
      "execution_count": 6
    },
    {
      "cell_type": "markdown",
      "source": "To help with the data analysis later on, we'll also calculate and add three additional columns - the average of each individual's five individual testimonial scores, as well as their 5 aggregate statistics scores, and the average of all 10 scores. We'll first need to convert the datatypes of those columns to an integer first.",
      "metadata": {}
    },
    {
      "cell_type": "code",
      "source": "data_columns = ['SA', 'MA', 'CA', 'PA', 'DA', 'SI', 'MI', 'CI', 'PI', 'DI']\n\nfor column in data_columns:\n    values[column] = pd.to_numeric(values[column])",
      "metadata": {
        "trusted": true
      },
      "outputs": [],
      "execution_count": 7
    },
    {
      "cell_type": "code",
      "source": "values['Individual Testimonials Average'] = (values['SI'] + values['MI'] + values['CI'] + values['PI'] + values['DI']) / 5\nvalues['Aggregate Statistics Average'] = (values['SA'] + values['MA'] + values['CA'] + values['PA'] + values['DA']) / 5\nvalues['Overall Average'] = (values['Individual Testimonials Average'] +  values['Aggregate Statistics Average']) / 2\nvalues[['Individual Testimonials Average', 'Aggregate Statistics Average', 'Overall Average']]",
      "metadata": {
        "trusted": true
      },
      "outputs": [
        {
          "execution_count": 8,
          "output_type": "execute_result",
          "data": {
            "text/plain": "     Individual Testimonials Average  Aggregate Statistics Average  \\\n2                                NaN                           NaN   \n3                                3.6                           3.2   \n4                                4.2                           4.0   \n5                                4.2                           3.4   \n6                                3.4                           3.4   \n..                               ...                           ...   \n193                              2.0                           2.2   \n194                              4.8                           3.8   \n195                              4.8                           4.8   \n196                              4.0                           4.0   \n197                              4.6                           4.0   \n\n     Overall Average  \n2                NaN  \n3                3.4  \n4                4.1  \n5                3.8  \n6                3.4  \n..               ...  \n193              2.1  \n194              4.3  \n195              4.8  \n196              4.0  \n197              4.3  \n\n[196 rows x 3 columns]",
            "text/html": "<div>\n<style scoped>\n    .dataframe tbody tr th:only-of-type {\n        vertical-align: middle;\n    }\n\n    .dataframe tbody tr th {\n        vertical-align: top;\n    }\n\n    .dataframe thead th {\n        text-align: right;\n    }\n</style>\n<table border=\"1\" class=\"dataframe\">\n  <thead>\n    <tr style=\"text-align: right;\">\n      <th></th>\n      <th>Individual Testimonials Average</th>\n      <th>Aggregate Statistics Average</th>\n      <th>Overall Average</th>\n    </tr>\n  </thead>\n  <tbody>\n    <tr>\n      <th>2</th>\n      <td>NaN</td>\n      <td>NaN</td>\n      <td>NaN</td>\n    </tr>\n    <tr>\n      <th>3</th>\n      <td>3.6</td>\n      <td>3.2</td>\n      <td>3.4</td>\n    </tr>\n    <tr>\n      <th>4</th>\n      <td>4.2</td>\n      <td>4.0</td>\n      <td>4.1</td>\n    </tr>\n    <tr>\n      <th>5</th>\n      <td>4.2</td>\n      <td>3.4</td>\n      <td>3.8</td>\n    </tr>\n    <tr>\n      <th>6</th>\n      <td>3.4</td>\n      <td>3.4</td>\n      <td>3.4</td>\n    </tr>\n    <tr>\n      <th>...</th>\n      <td>...</td>\n      <td>...</td>\n      <td>...</td>\n    </tr>\n    <tr>\n      <th>193</th>\n      <td>2.0</td>\n      <td>2.2</td>\n      <td>2.1</td>\n    </tr>\n    <tr>\n      <th>194</th>\n      <td>4.8</td>\n      <td>3.8</td>\n      <td>4.3</td>\n    </tr>\n    <tr>\n      <th>195</th>\n      <td>4.8</td>\n      <td>4.8</td>\n      <td>4.8</td>\n    </tr>\n    <tr>\n      <th>196</th>\n      <td>4.0</td>\n      <td>4.0</td>\n      <td>4.0</td>\n    </tr>\n    <tr>\n      <th>197</th>\n      <td>4.6</td>\n      <td>4.0</td>\n      <td>4.3</td>\n    </tr>\n  </tbody>\n</table>\n<p>196 rows × 3 columns</p>\n</div>"
          },
          "metadata": {}
        }
      ],
      "execution_count": 8
    },
    {
      "cell_type": "markdown",
      "source": "We'll also add standardized values of all the rating columns.",
      "metadata": {}
    },
    {
      "cell_type": "code",
      "source": "for column in data_columns:\n    values[column + ' standardized'] = (values[column] - values[column].mean()) / values[column].std()",
      "metadata": {
        "trusted": true
      },
      "outputs": [],
      "execution_count": 9
    },
    {
      "cell_type": "code",
      "source": "values['I AVG standardized'] = (values['SI standardized'] + values['MI standardized'] + values['CI standardized'] + values['PI standardized'] + values['DI standardized']) / 5\nvalues['A AVG standardized'] = (values['SA standardized'] + values['MA standardized'] + values['CA standardized'] + values['PA standardized'] + values['DA standardized']) / 5\nvalues['Overall AVG standardized'] = (values['I AVG standardized'] +  values['A AVG standardized']) / 2\nvalues[['I AVG standardized', 'A AVG standardized', 'Overall AVG standardized']]",
      "metadata": {
        "trusted": true
      },
      "outputs": [
        {
          "execution_count": 10,
          "output_type": "execute_result",
          "data": {
            "text/plain": "     I AVG standardized  A AVG standardized  Overall AVG standardized\n2                   NaN                 NaN                       NaN\n3             -0.383858           -0.844421                 -0.614139\n4              0.303715            0.091120                  0.197418\n5              0.297829           -0.616319                 -0.159245\n6             -0.585731           -0.631932                 -0.608832\n..                  ...                 ...                       ...\n193           -2.165684           -2.018800                 -2.092242\n194            0.970362           -0.155947                  0.407207\n195            0.976247            1.011393                  0.993820\n196            0.079738            0.075069                  0.077404\n197            0.767311            0.082859                  0.425085\n\n[196 rows x 3 columns]",
            "text/html": "<div>\n<style scoped>\n    .dataframe tbody tr th:only-of-type {\n        vertical-align: middle;\n    }\n\n    .dataframe tbody tr th {\n        vertical-align: top;\n    }\n\n    .dataframe thead th {\n        text-align: right;\n    }\n</style>\n<table border=\"1\" class=\"dataframe\">\n  <thead>\n    <tr style=\"text-align: right;\">\n      <th></th>\n      <th>I AVG standardized</th>\n      <th>A AVG standardized</th>\n      <th>Overall AVG standardized</th>\n    </tr>\n  </thead>\n  <tbody>\n    <tr>\n      <th>2</th>\n      <td>NaN</td>\n      <td>NaN</td>\n      <td>NaN</td>\n    </tr>\n    <tr>\n      <th>3</th>\n      <td>-0.383858</td>\n      <td>-0.844421</td>\n      <td>-0.614139</td>\n    </tr>\n    <tr>\n      <th>4</th>\n      <td>0.303715</td>\n      <td>0.091120</td>\n      <td>0.197418</td>\n    </tr>\n    <tr>\n      <th>5</th>\n      <td>0.297829</td>\n      <td>-0.616319</td>\n      <td>-0.159245</td>\n    </tr>\n    <tr>\n      <th>6</th>\n      <td>-0.585731</td>\n      <td>-0.631932</td>\n      <td>-0.608832</td>\n    </tr>\n    <tr>\n      <th>...</th>\n      <td>...</td>\n      <td>...</td>\n      <td>...</td>\n    </tr>\n    <tr>\n      <th>193</th>\n      <td>-2.165684</td>\n      <td>-2.018800</td>\n      <td>-2.092242</td>\n    </tr>\n    <tr>\n      <th>194</th>\n      <td>0.970362</td>\n      <td>-0.155947</td>\n      <td>0.407207</td>\n    </tr>\n    <tr>\n      <th>195</th>\n      <td>0.976247</td>\n      <td>1.011393</td>\n      <td>0.993820</td>\n    </tr>\n    <tr>\n      <th>196</th>\n      <td>0.079738</td>\n      <td>0.075069</td>\n      <td>0.077404</td>\n    </tr>\n    <tr>\n      <th>197</th>\n      <td>0.767311</td>\n      <td>0.082859</td>\n      <td>0.425085</td>\n    </tr>\n  </tbody>\n</table>\n<p>196 rows × 3 columns</p>\n</div>"
          },
          "metadata": {}
        }
      ],
      "execution_count": 10
    },
    {
      "cell_type": "markdown",
      "source": "# Filtering out invalid data",
      "metadata": {}
    },
    {
      "cell_type": "markdown",
      "source": "How many total participants do we have that finished the survey?",
      "metadata": {}
    },
    {
      "cell_type": "code",
      "source": "len(labels[labels.Finished == \"True\"])",
      "metadata": {
        "trusted": true
      },
      "outputs": [
        {
          "execution_count": 11,
          "output_type": "execute_result",
          "data": {
            "text/plain": "196"
          },
          "metadata": {}
        }
      ],
      "execution_count": 11
    },
    {
      "cell_type": "markdown",
      "source": "Almost 200 participants! First, let's see how many people passed the comprehension check. To pass the check, they needed to select the option \"How interested I was in learning more about education courses\".",
      "metadata": {}
    },
    {
      "cell_type": "code",
      "source": "labels = labels[labels.CC1 == \"How interested I was in learning more about education courses\"]\nlen(labels)",
      "metadata": {
        "trusted": true
      },
      "outputs": [
        {
          "execution_count": 12,
          "output_type": "execute_result",
          "data": {
            "text/plain": "110"
          },
          "metadata": {}
        }
      ],
      "execution_count": 12
    },
    {
      "cell_type": "markdown",
      "source": "Looks like only 110 people passed our comprehension check :(\nWe'll now see how many of the remaining people pass at least one of the attention checks. They needed to answer \"Tennis\" for AC1, or \"Carrot juice\" for AC2.",
      "metadata": {}
    },
    {
      "cell_type": "code",
      "source": "labels = labels[(labels.AC1 == \"Tennis\") | (labels.AC2 == \"Carrot juice\")]\nlen(labels)",
      "metadata": {
        "trusted": true
      },
      "outputs": [
        {
          "execution_count": 13,
          "output_type": "execute_result",
          "data": {
            "text/plain": "107"
          },
          "metadata": {}
        }
      ],
      "execution_count": 13
    },
    {
      "cell_type": "markdown",
      "source": "Only 3 additional people lost from the attention checks, not bad! Finally, we'll check if the remianing participants passed at least one of the two PDB manipulation checks. This will depend on which condition they were assigned to.",
      "metadata": {}
    },
    {
      "cell_type": "code",
      "source": "low_pdb = labels[(labels.LMC2 == \"Agree\") | (labels.LMC2 == \"Slightly agree\") | (labels.LMC3 == \"The team\")]\nhigh_pdb = labels[(labels.HMC1 == \"Agree\") | (labels.HMC1 == \"Slightly agree\") | (labels.HMC3 == \"Management\")]\nlabels = pd.concat([low_pdb, high_pdb], ignore_index=False)\nlen(labels)",
      "metadata": {
        "trusted": true
      },
      "outputs": [
        {
          "execution_count": 14,
          "output_type": "execute_result",
          "data": {
            "text/plain": "101"
          },
          "metadata": {}
        }
      ],
      "execution_count": 14
    },
    {
      "cell_type": "markdown",
      "source": "Nice, only 6 additional participants lost. We have 101 participants who passed all three of our checks. We will work with only these participants moving forward, and drop the rest. Let's also then divide our data into low PDB participants and high PDB participants, and then also filter the `values` dataframe by the same indicies that we have in the filtered `labels` dataframe, so they're synced up.",
      "metadata": {}
    },
    {
      "cell_type": "code",
      "source": "low_labels = labels[labels.LMC2.notnull()]\nhigh_labels = labels[labels.HMC1.notnull()]\nlow_values = values.loc[low_labels.index]\nhigh_values = values.loc[high_labels.index]\nvalues = values.loc[labels.index]",
      "metadata": {
        "trusted": true
      },
      "outputs": [],
      "execution_count": 15
    },
    {
      "cell_type": "code",
      "source": "print(\"Number of low PDB participants:\", len(low_labels))\nprint(\"Number of high PDB participants:\", len(high_labels)) ",
      "metadata": {
        "trusted": true
      },
      "outputs": [
        {
          "name": "stdout",
          "text": "Number of low PDB participants: 46\nNumber of high PDB participants: 55\n",
          "output_type": "stream"
        }
      ],
      "execution_count": 16
    },
    {
      "cell_type": "markdown",
      "source": "# Testing our hypotheses",
      "metadata": {}
    },
    {
      "cell_type": "code",
      "source": "%pip install seaborn",
      "metadata": {
        "trusted": true
      },
      "outputs": [],
      "execution_count": 17
    },
    {
      "cell_type": "code",
      "source": "from scipy import stats\nimport seaborn as sns\nimport matplotlib.pyplot as plt",
      "metadata": {
        "trusted": true
      },
      "outputs": [],
      "execution_count": 18
    },
    {
      "cell_type": "markdown",
      "source": "Let's first visualize our ad interest ratings with box plots.",
      "metadata": {}
    },
    {
      "cell_type": "code",
      "source": "sns.boxplot(data=values[['Individual Testimonials Average', 'Aggregate Statistics Average']], orient='h')",
      "metadata": {
        "trusted": true
      },
      "outputs": [
        {
          "execution_count": 19,
          "output_type": "execute_result",
          "data": {
            "text/plain": "<AxesSubplot:>"
          },
          "metadata": {}
        },
        {
          "output_type": "display_data",
          "data": {
            "text/plain": "<Figure size 640x480 with 1 Axes>",
            "image/png": "[encoded data removed]"
          },
          "metadata": {}
        }
      ],
      "execution_count": 19
    },
    {
      "cell_type": "markdown",
      "source": "The two distributions look fairly similar. Let's first test the direct effect of ad type on ad interest ratings using the Wilcoxon singed-rank test.",
      "metadata": {}
    },
    {
      "cell_type": "code",
      "source": "stats.wilcoxon(values['Individual Testimonials Average'], values['Aggregate Statistics Average'])",
      "metadata": {
        "trusted": true
      },
      "outputs": [
        {
          "execution_count": 20,
          "output_type": "execute_result",
          "data": {
            "text/plain": "WilcoxonResult(statistic=1079.5, pvalue=0.3378627802656261)"
          },
          "metadata": {}
        }
      ],
      "execution_count": 20
    },
    {
      "cell_type": "markdown",
      "source": "As the pvalue is not significant, we can conclude that there is no main effect of ad type on ad interest ratings.",
      "metadata": {}
    },
    {
      "cell_type": "markdown",
      "source": "To test the main effect of PDB on ad interest ratings, we perform the Mann-Whitney U test between individuals in\nthe high-PDB manipulation group and individuals in the low-PDB manipulation group on their overall average standardized score.",
      "metadata": {}
    },
    {
      "cell_type": "code",
      "source": "stats.mannwhitneyu(low_values['Overall AVG standardized'], high_values['Overall AVG standardized'])",
      "metadata": {
        "trusted": true
      },
      "outputs": [
        {
          "execution_count": 21,
          "output_type": "execute_result",
          "data": {
            "text/plain": "MannwhitneyuResult(statistic=1434.0, pvalue=0.2505283477337189)"
          },
          "metadata": {}
        }
      ],
      "execution_count": 21
    },
    {
      "cell_type": "markdown",
      "source": "As the pvalue is not significant, we can conclude that there is also no main effect of PDB level on ad interest ratings.",
      "metadata": {}
    },
    {
      "cell_type": "markdown",
      "source": "## Interaction effect",
      "metadata": {}
    },
    {
      "cell_type": "markdown",
      "source": "In order to evaluate our hypotheses, we perform the Wilcoxon signed-rank test on the low-PDB group and high-PDB group separately.",
      "metadata": {}
    },
    {
      "cell_type": "markdown",
      "source": "### Hypotheses 1",
      "metadata": {}
    },
    {
      "cell_type": "markdown",
      "source": "Our Hypothesis 1 is that High-PDB consumers show more interest in education products presented with aggregate statistics as social proof. Let's first graph the distribution of ratings for high-PDB participants.",
      "metadata": {}
    },
    {
      "cell_type": "code",
      "source": "sns.boxplot(data=high_values[['I AVG standardized', 'A AVG standardized']], orient='h')",
      "metadata": {
        "trusted": true
      },
      "outputs": [
        {
          "execution_count": 22,
          "output_type": "execute_result",
          "data": {
            "text/plain": "<AxesSubplot:>"
          },
          "metadata": {}
        },
        {
          "output_type": "display_data",
          "data": {
            "text/plain": "<Figure size 640x480 with 1 Axes>",
            "image/png": "[encoded data removed]"
          },
          "metadata": {}
        }
      ],
      "execution_count": 22
    },
    {
      "cell_type": "code",
      "source": "high_values[['I AVG standardized', 'A AVG standardized']].describe()",
      "metadata": {
        "trusted": true
      },
      "outputs": [
        {
          "execution_count": 23,
          "output_type": "execute_result",
          "data": {
            "text/plain": "       I AVG standardized  A AVG standardized\ncount           55.000000           55.000000\nmean             0.111632           -0.065083\nstd              0.763971            0.702787\nmin             -3.264067           -3.441407\n25%             -0.144829           -0.389841\n50%              0.094201            0.082859\n75%              0.636750            0.325374\nmax              1.194339            0.797651",
            "text/html": "<div>\n<style scoped>\n    .dataframe tbody tr th:only-of-type {\n        vertical-align: middle;\n    }\n\n    .dataframe tbody tr th {\n        vertical-align: top;\n    }\n\n    .dataframe thead th {\n        text-align: right;\n    }\n</style>\n<table border=\"1\" class=\"dataframe\">\n  <thead>\n    <tr style=\"text-align: right;\">\n      <th></th>\n      <th>I AVG standardized</th>\n      <th>A AVG standardized</th>\n    </tr>\n  </thead>\n  <tbody>\n    <tr>\n      <th>count</th>\n      <td>55.000000</td>\n      <td>55.000000</td>\n    </tr>\n    <tr>\n      <th>mean</th>\n      <td>0.111632</td>\n      <td>-0.065083</td>\n    </tr>\n    <tr>\n      <th>std</th>\n      <td>0.763971</td>\n      <td>0.702787</td>\n    </tr>\n    <tr>\n      <th>min</th>\n      <td>-3.264067</td>\n      <td>-3.441407</td>\n    </tr>\n    <tr>\n      <th>25%</th>\n      <td>-0.144829</td>\n      <td>-0.389841</td>\n    </tr>\n    <tr>\n      <th>50%</th>\n      <td>0.094201</td>\n      <td>0.082859</td>\n    </tr>\n    <tr>\n      <th>75%</th>\n      <td>0.636750</td>\n      <td>0.325374</td>\n    </tr>\n    <tr>\n      <th>max</th>\n      <td>1.194339</td>\n      <td>0.797651</td>\n    </tr>\n  </tbody>\n</table>\n</div>"
          },
          "metadata": {}
        }
      ],
      "execution_count": 23
    },
    {
      "cell_type": "code",
      "source": "stats.wilcoxon(high_values['I AVG standardized'], high_values['A AVG standardized'])",
      "metadata": {
        "trusted": true
      },
      "outputs": [
        {
          "execution_count": 24,
          "output_type": "execute_result",
          "data": {
            "text/plain": "WilcoxonResult(statistic=440.0, pvalue=0.005691331007643272)"
          },
          "metadata": {}
        }
      ],
      "execution_count": 24
    },
    {
      "cell_type": "markdown",
      "source": "It looks like our results are not significant, but trending in the opposite direction - high PDB individuals show a slightly higher interest in individual testimonials than aggregate statistics.",
      "metadata": {}
    },
    {
      "cell_type": "markdown",
      "source": "### Hypotheses 2",
      "metadata": {}
    },
    {
      "cell_type": "markdown",
      "source": "Our Hypothesis 2 is that low-PDB consumers show more interest in education products presented with individual statistics as social proof. Let's first graph the distribution of ratings for low-PDB participants.",
      "metadata": {}
    },
    {
      "cell_type": "code",
      "source": "sns.boxplot(data=low_values[['I AVG standardized', 'A AVG standardized']], orient='h')",
      "metadata": {
        "trusted": true
      },
      "outputs": [
        {
          "execution_count": 25,
          "output_type": "execute_result",
          "data": {
            "text/plain": "<AxesSubplot:>"
          },
          "metadata": {}
        },
        {
          "output_type": "display_data",
          "data": {
            "text/plain": "<Figure size 640x480 with 1 Axes>",
            "image/png": "[encoded data removed]"
          },
          "metadata": {}
        }
      ],
      "execution_count": 25
    },
    {
      "cell_type": "code",
      "source": "low_values[['I AVG standardized', 'A AVG standardized']].describe()",
      "metadata": {
        "trusted": true
      },
      "outputs": [
        {
          "execution_count": 26,
          "output_type": "execute_result",
          "data": {
            "text/plain": "       I AVG standardized  A AVG standardized\ncount           46.000000           46.000000\nmean             0.170761            0.250344\nstd              0.571349            0.586176\nmin             -0.985924           -1.798457\n25%             -0.358427           -0.093060\n50%              0.188783            0.308523\n75%              0.553056            0.563154\nmax              1.194339            1.257615",
            "text/html": "<div>\n<style scoped>\n    .dataframe tbody tr th:only-of-type {\n        vertical-align: middle;\n    }\n\n    .dataframe tbody tr th {\n        vertical-align: top;\n    }\n\n    .dataframe thead th {\n        text-align: right;\n    }\n</style>\n<table border=\"1\" class=\"dataframe\">\n  <thead>\n    <tr style=\"text-align: right;\">\n      <th></th>\n      <th>I AVG standardized</th>\n      <th>A AVG standardized</th>\n    </tr>\n  </thead>\n  <tbody>\n    <tr>\n      <th>count</th>\n      <td>46.000000</td>\n      <td>46.000000</td>\n    </tr>\n    <tr>\n      <th>mean</th>\n      <td>0.170761</td>\n      <td>0.250344</td>\n    </tr>\n    <tr>\n      <th>std</th>\n      <td>0.571349</td>\n      <td>0.586176</td>\n    </tr>\n    <tr>\n      <th>min</th>\n      <td>-0.985924</td>\n      <td>-1.798457</td>\n    </tr>\n    <tr>\n      <th>25%</th>\n      <td>-0.358427</td>\n      <td>-0.093060</td>\n    </tr>\n    <tr>\n      <th>50%</th>\n      <td>0.188783</td>\n      <td>0.308523</td>\n    </tr>\n    <tr>\n      <th>75%</th>\n      <td>0.553056</td>\n      <td>0.563154</td>\n    </tr>\n    <tr>\n      <th>max</th>\n      <td>1.194339</td>\n      <td>1.257615</td>\n    </tr>\n  </tbody>\n</table>\n</div>"
          },
          "metadata": {}
        }
      ],
      "execution_count": 26
    },
    {
      "cell_type": "code",
      "source": "stats.wilcoxon(low_values['I AVG standardized'], low_values['A AVG standardized'])",
      "metadata": {
        "trusted": true
      },
      "outputs": [
        {
          "execution_count": 27,
          "output_type": "execute_result",
          "data": {
            "text/plain": "WilcoxonResult(statistic=425.0, pvalue=0.21111175977705443)"
          },
          "metadata": {}
        }
      ],
      "execution_count": 27
    },
    {
      "cell_type": "markdown",
      "source": "This time, our results are also not significant, but again trending in the opposite direction of our hypothesis - low PDB individuals show a slightly higher interest in aggregate statistics than individual testimonials.",
      "metadata": {}
    },
    {
      "cell_type": "markdown",
      "source": "# Picking out a random winner for the $10 lottery",
      "metadata": {}
    },
    {
      "cell_type": "markdown",
      "source": "Let's filter down to the participants who passed all attention and manipulation checks, and also filled in their MTurk Worker ID:",
      "metadata": {}
    },
    {
      "cell_type": "code",
      "source": "labels = pd.read_csv(\"data/labels.csv\").drop([0, 1])",
      "metadata": {
        "trusted": true
      },
      "outputs": [],
      "execution_count": 28
    },
    {
      "cell_type": "code",
      "source": "labels = labels[labels.Finished == \"True\"]\nlabels = labels[labels.CC1 == \"How interested I was in learning more about education courses\"]\nlabels = labels[(labels.AC1 == \"Tennis\") & (labels.AC2 == \"Carrot juice\")]\nlabels = labels[labels.Q2.notnull()]\nlen(labels)",
      "metadata": {
        "trusted": true
      },
      "outputs": [
        {
          "execution_count": 29,
          "output_type": "execute_result",
          "data": {
            "text/plain": "97"
          },
          "metadata": {}
        }
      ],
      "execution_count": 29
    },
    {
      "cell_type": "markdown",
      "source": "Let's now sample one of those participants to award the $10 bonus to:",
      "metadata": {}
    },
    {
      "cell_type": "code",
      "source": "labels.sample(n=1)['Q2']",
      "metadata": {
        "trusted": true
      },
      "outputs": [
        {
          "execution_count": 30,
          "output_type": "execute_result",
          "data": {
            "text/plain": "30    A2R6CISCFJ7EDJ\nName: Q2, dtype: object"
          },
          "metadata": {}
        }
      ],
      "execution_count": 30
    }
  ]
}